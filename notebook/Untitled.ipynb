{
 "cells": [
  {
   "cell_type": "code",
   "execution_count": 1,
   "metadata": {
    "collapsed": true
   },
   "outputs": [],
   "source": [
    "import os\n",
    "from PIL import Image\n",
    "import numpy as np"
   ]
  },
  {
   "cell_type": "code",
   "execution_count": 2,
   "metadata": {
    "collapsed": false
   },
   "outputs": [],
   "source": [
    "img_path = \"./../data/12314_01.jpg\"\n",
    "img = Image.open(img_path)\n",
    "arr = np.array(img)\n",
    "\n",
    "def img2numpy_arr(img_path):\n",
    "    return np.array(Image.open(img_path))"
   ]
  },
  {
   "cell_type": "code",
   "execution_count": 9,
   "metadata": {
    "collapsed": false
   },
   "outputs": [],
   "source": [
    "# 0 : Femail / 1 : Male\n",
    "\n",
    "# Make Male DataSet\n",
    "male_path = \"./../gender_data/img_male/\"\n",
    "male_list = os.listdir(male_path)\n",
    "\n",
    "male_data = np.empty((len(male_list), 128, 128, 3))\n",
    "for i in range(len(male_list)):\n",
    "    male_data[i,:,:,:] = img2numpy_arr(male_path+male_list[i])\n",
    "    \n",
    "# Make Female DataSet\n",
    "female_path = \"./../gender_data/img_female/\"\n",
    "female_list = os.listdir(female_path)\n",
    "\n",
    "female_data = np.empty((len(female_list), 128, 128, 3))\n",
    "for i in range(len(female_list)):\n",
    "    female_data[i,:,:,:] = img2numpy_arr(female_path+female_list[i])"
   ]
  },
  {
   "cell_type": "code",
   "execution_count": 11,
   "metadata": {
    "collapsed": false
   },
   "outputs": [
    {
     "name": "stdout",
     "output_type": "stream",
     "text": [
      " (30240, 128, 128, 3) (23890, 128, 128, 3)\n"
     ]
    }
   ],
   "source": [
    "print male_data.shape, female_data.shape"
   ]
  },
  {
   "cell_type": "code",
   "execution_count": null,
   "metadata": {
    "collapsed": true
   },
   "outputs": [],
   "source": []
  }
 ],
 "metadata": {
  "kernelspec": {
   "display_name": "Python 2",
   "language": "python",
   "name": "python2"
  },
  "language_info": {
   "codemirror_mode": {
    "name": "ipython",
    "version": 2
   },
   "file_extension": ".py",
   "mimetype": "text/x-python",
   "name": "python",
   "nbconvert_exporter": "python",
   "pygments_lexer": "ipython2",
   "version": "2.7.6"
  }
 },
 "nbformat": 4,
 "nbformat_minor": 0
}
