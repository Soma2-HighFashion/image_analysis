{
 "cells": [
  {
   "cell_type": "code",
   "execution_count": 1,
   "metadata": {
    "collapsed": true
   },
   "outputs": [],
   "source": [
    "import os\n",
    "from PIL import Image\n",
    "import numpy as np"
   ]
  },
  {
   "cell_type": "code",
   "execution_count": 2,
   "metadata": {
    "collapsed": false
   },
   "outputs": [],
   "source": [
    "img_path = \"./../data/12314_01.jpg\"\n",
    "img = Image.open(img_path)\n",
    "arr = np.array(img)\n",
    "\n",
    "def img2numpy_arr(img_path):\n",
    "    return np.array(Image.open(img_path))"
   ]
  },
  {
   "cell_type": "code",
   "execution_count": 9,
   "metadata": {
    "collapsed": false
   },
   "outputs": [],
   "source": [
    "# 0 : Femail / 1 : Male\n",
    "\n",
    "# Make Male DataSet\n",
    "male_path = \"./../gender_data/img_male/\"\n",
    "male_list = os.listdir(male_path)\n",
    "\n",
    "male_data = np.empty((len(male_list), 128, 128, 3))\n",
    "for i in range(len(male_list)):\n",
    "    male_data[i,:,:,:] = img2numpy_arr(male_path+male_list[i])\n",
    "    \n",
    "# Make Female DataSet\n",
    "female_path = \"./../gender_data/img_female/\"\n",
    "female_list = os.listdir(female_path)\n",
    "\n",
    "female_data = np.empty((len(female_list), 128, 128, 3))\n",
    "for i in range(len(female_list)):\n",
    "    female_data[i,:,:,:] = img2numpy_arr(female_path+female_list[i])"
   ]
  },
  {
   "cell_type": "code",
   "execution_count": 24,
   "metadata": {
    "collapsed": false
   },
   "outputs": [
    {
     "name": "stdout",
     "output_type": "stream",
     "text": [
      "(30240, 128, 128, 3) (23890, 128, 128, 3) (54130, 128, 128, 3)\n"
     ]
    }
   ],
   "source": [
    "print male_data.shape, female_data.shape, np.concatenate((male_data, female_data),axis=0).shape"
   ]
  },
  {
   "cell_type": "code",
   "execution_count": 30,
   "metadata": {
    "collapsed": false
   },
   "outputs": [
    {
     "name": "stdout",
     "output_type": "stream",
     "text": [
      "(30240,) uint8\n"
     ]
    }
   ],
   "source": [
    "male_label = np.ones(len(male_list), dtype=\"uint8\")\n",
    "print male_label.shape, male_label.dtype"
   ]
  },
  {
   "cell_type": "code",
   "execution_count": 32,
   "metadata": {
    "collapsed": false
   },
   "outputs": [
    {
     "name": "stdout",
     "output_type": "stream",
     "text": [
      "(23890,) uint8\n"
     ]
    }
   ],
   "source": [
    "female_label = np.zeros(len(female_list), dtype=\"uint8\")\n",
    "print female_label.shape, female_label.dtype"
   ]
  },
  {
   "cell_type": "code",
   "execution_count": 33,
   "metadata": {
    "collapsed": true
   },
   "outputs": [],
   "source": [
    "dataset = {\"test\": 1}"
   ]
  },
  {
   "cell_type": "code",
   "execution_count": null,
   "metadata": {
    "collapsed": true
   },
   "outputs": [],
   "source": [
    "np.save(\"./../test.npy\", dataset)"
   ]
  },
  {
   "cell_type": "code",
   "execution_count": null,
   "metadata": {
    "collapsed": true
   },
   "outputs": [],
   "source": []
  },
  {
   "cell_type": "code",
   "execution_count": 40,
   "metadata": {
    "collapsed": false
   },
   "outputs": [
    {
     "name": "stdout",
     "output_type": "stream",
     "text": [
      "Load Female DataSet.....\n",
      "Complete!\n",
      "Load Male DataSet ...\n",
      "Complete!\n"
     ]
    }
   ],
   "source": [
    "gender_npy_path = \"./../gender_data/gender.npy\"\n",
    "\n",
    "# Make Female DataSet\n",
    "female_path = \"./../gender_data/img_female/\"\n",
    "female_list = os.listdir(female_path)\n",
    "\n",
    "print \"Load Female DataSet.....\"\n",
    "female_data = np.empty((len(female_list), 128, 128, 3))\n",
    "for i in range(len(female_list)):\n",
    "    female_data[i,:,:,:] = img2numpy_arr(female_path+female_list[i])\n",
    "\n",
    "female_label = np.zeros(len(female_list), dtype=\"uint8\")\n",
    "print \"Complete!\"\n",
    "\n",
    "# Make Male DataSet\n",
    "male_path = \"./../gender_data/img_male/\"\n",
    "male_list = os.listdir(male_path)\n",
    "\n",
    "print \"Load Male DataSet ...\"\n",
    "male_data = np.empty((len(male_list), 128, 128, 3))\n",
    "for i in range(len(male_list)):\n",
    "    male_data[i,:,:,:] = img2numpy_arr(male_path+male_list[i])\n",
    "\n",
    "male_label = np.ones(len(male_list), dtype=\"uint8\")\n",
    "print \"Complete!\"\n",
    "\n",
    "dataset = {\n",
    "#'data' : np.concatenate((male_data, female_data),axis=0),\n",
    "'label' : np.concatenate((male_label, female_label), axis=0)\n",
    "}\n",
    "np.save(\"test2.npy\", dataset['label'])"
   ]
  },
  {
   "cell_type": "code",
   "execution_count": 42,
   "metadata": {
    "collapsed": false
   },
   "outputs": [
    {
     "data": {
      "text/plain": [
       "(128, 128, 3)"
      ]
     },
     "execution_count": 42,
     "metadata": {},
     "output_type": "execute_result"
    }
   ],
   "source": [
    "test = male_data[0]\n",
    "test.shape"
   ]
  },
  {
   "cell_type": "code",
   "execution_count": 44,
   "metadata": {
    "collapsed": false
   },
   "outputs": [
    {
     "data": {
      "text/plain": [
       "(16384, 3)"
      ]
     },
     "execution_count": 44,
     "metadata": {},
     "output_type": "execute_result"
    }
   ],
   "source": [
    "test.reshape((128*128, 3)).shape"
   ]
  },
  {
   "cell_type": "code",
   "execution_count": 56,
   "metadata": {
    "collapsed": false
   },
   "outputs": [
    {
     "data": {
      "text/plain": [
       "array([[1, 0],\n",
       "       [1, 0],\n",
       "       [1, 0],\n",
       "       ..., \n",
       "       [1, 0],\n",
       "       [1, 0],\n",
       "       [1, 0]], dtype=uint8)"
      ]
     },
     "execution_count": 56,
     "metadata": {},
     "output_type": "execute_result"
    }
   ],
   "source": [
    "female_label = np.zeros( (len(female_list), 2), dtype=\"uint8\")\n",
    "female_label[:, 0] = 1\n",
    "female_label"
   ]
  },
  {
   "cell_type": "code",
   "execution_count": null,
   "metadata": {
    "collapsed": true
   },
   "outputs": [],
   "source": []
  }
 ],
 "metadata": {
  "kernelspec": {
   "display_name": "Python 2",
   "language": "python",
   "name": "python2"
  },
  "language_info": {
   "codemirror_mode": {
    "name": "ipython",
    "version": 2
   },
   "file_extension": ".py",
   "mimetype": "text/x-python",
   "name": "python",
   "nbconvert_exporter": "python",
   "pygments_lexer": "ipython2",
   "version": "2.7.6"
  }
 },
 "nbformat": 4,
 "nbformat_minor": 0
}
